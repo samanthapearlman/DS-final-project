{
 "cells": [
  {
   "cell_type": "markdown",
   "metadata": {},
   "source": [
    "# Project Design Writeup and Approval Template : Mapping Police Violence (Sam)"
   ]
  },
  {
   "cell_type": "markdown",
   "metadata": {},
   "source": [
    "### Project Problem and Hypothesis\n",
    "* **What's the project about? What problem are you solving?**\n",
    "\n",
    "Using data on people killed by police from 2013-2016, can we understand what variables make a person more or less likely to be fatally injured by a police officer?\n",
    "\n",
    "The dataset only includes people who died from police action, so we are unable to predict survival rate (since in all cases, survival = false). However, we can use the data set to predict the victim's race, conditional on dying. We can also use the data set to predict whether the victim was armed or unarmed, conditional on dying. \n",
    "\n",
    "* **Where does this seem to reside as a machine learning problem? Are you predicting some continuous number, or predicting a binary value?**\n",
    "\n",
    "Most of the machine learning applications for this data would be towards predicting a binary variable (armed or unarmed) or categorical variable (race 1, race 2, race 3, etc). These are both classification problems.\n",
    "\n",
    "I will try the following classification models to determine which variables are best able to predict the outcomes (armed/unarmed or race category):\n",
    "\n",
    "K-nearest neighbors (lesson 9)\n",
    "Logistic regression (lesson 10)\n",
    "Decision trees (lesson 11) - will show us feature importance\n",
    "Random forest, bagging (lesson 12)\n",
    "Clustering (lesson 14) - to see if there are trends/groupings in the data without necessarily predicting an outcome\n",
    "\n",
    "I will score the models using accuracy, precision/recall, f1, or auc roc score, depending on which is most appropriate for the data.\n",
    "\n",
    "* **What kind of impact do you think it could have?**\n",
    "\n",
    "Analysis on this data could prove or disprove any overt or subtle raical bias by police officers. In addition, the analysis could help US police departments improve transparency and accountability, and could help activists and police departments to work together and end police violence. \n",
    "\n",
    "* **What do you think will have the most impact in predicting the value you are interested in solving for?**\n",
    "\n",
    "I think location of police violence will be most impactful in predicting the race of the victim. "
   ]
  },
  {
   "cell_type": "markdown",
   "metadata": {},
   "source": [
    "SW: Sam, this is very good, and would make for a fine project. \n",
    "\n",
    "* You've chosen a good dataset, which is half the battle\n",
    "* You have a good grasp of how you could apply the prediction techniques we've learned in class to test the accuracy of any model you would use.\n",
    "\n",
    "I wonder if this is a problem you really care about answering. It seems like there's not a strong predictive component here - whereas you could try to \"predict the person's race\", for example, from other features in the dataset, since those features obviously aren't _causing_ a change in the person's race, that analysis would end up being more exploratory than anything. Of course, if you had survival rates here, then this would be a perfect case for a predictive model, but unfortunately we don't.\n",
    "\n",
    "You've been one of the most engaged students in the class, and your homework assignments have all been very good - do you feel like you could tackle one of the more challenging, but more \"predictive\" ideas you originally had back when you presented your original ideas in your \"lightning talks\" - such as predicting hospital readmission rates?"
   ]
  },
  {
   "cell_type": "markdown",
   "metadata": {},
   "source": [
    "### Datasets\n",
    "* **Description of data set available, at the field level**\n",
    "\n",
    "The dataset is pulled from MappingPoliceViolence.org, which is a research collaborative that collects and analyzes datasets on nationwide police killings. \n",
    "\n",
    "Unfortunately, there is not good official government data on police shooting incidents or the demographics of the victims. In response, many organizations have begun to crowdsource data on police shootings from pubically available information. The full dataset that I will use from MappingPoliceViolence (MPV) is a compilation of three of the largest, most comprehensive, and most impartial crowdsourced databases on police killings in the country: FatalEncounters.org, the U.S. Police Shootings Database and KilledbyPolice.net. MPV has improved the dataset with their own primary and secondary research. \n",
    "\n",
    "MPV believes this dataset is the most comprehensive source of people killed by police for 2013-2016. Since it is user-generated, it is certiainly not 100% comprehensive; however, MPV believes that their database captures 90-98% of all police killings since 2014. \n",
    "\n",
    "The variables in the MPV dataset include:\n",
    "\n",
    "Variable | Description | Type of Variable\n",
    "---| ---| ---\n",
    "Victim's name\t|First and last| Categorical\n",
    "Victim's age\t|Age in years| Continuous\n",
    "Victim's gender\t|Male or female| Categorical\n",
    "Victim's race\t|Black, White, Hispanic, Asian, or unknown| Categorical\n",
    "*URL of image of victim\t|If available | Categorical\n",
    "Date of injury resulting in death\t|(month/day/year)| Continuous\n",
    "Location of injury (address)\t|Street address  | Categorical\n",
    "Location of death (city)\t|City | Categorical\n",
    "Location of death (state)\t|State (abbreviated) | Categorical\n",
    "Location of death (zip code)\t|Zip code | Categorical\n",
    "Location of death (county)\t|County associated with location| Categorical\n",
    "Agency responsible for death\t|Associated police department| Categorical\n",
    "Cause of death\t|Gunshot, vehicle, death in custody, physical restraint | Categorical\n",
    "*A brief description of the circumstances surrounding the death\t| Text | Categorical\n",
    "Official disposition of death (justified or other)\t|Justified, pending investigation, type of conviction | Categorical\n",
    "Criminal Charges?\t| Charged with crime (yes) or no known charges (no) | Categorical\n",
    "*Link to news article or photo of official document\t| URL | Categorical\n",
    "Symptoms of mental illness?\t| Yes, no, unknown | Categorical\n",
    "Unarmed | Unarmed, allegedly armed| Categorical\n",
    "\n",
    "*= represents variables that will likely be dropped from analysis.\n",
    "\n",
    "In addition to the MPV-provided data, I will merge in other variables to supplement the data. These will likely include:\n",
    "\n",
    "* Level of violent crime by city\n",
    "* Urban/rural/suburban categorization of location of death\n",
    "* Demographic (race) breakdown of city"
   ]
  },
  {
   "cell_type": "markdown",
   "metadata": {},
   "source": [
    "SW: Excellent ideas for additional variables to merge in! Maybe you could predict which _cities_ have more police shootings based on demographics? (but you might not have enough data points for that)"
   ]
  },
  {
   "cell_type": "markdown",
   "metadata": {},
   "source": [
    "### Domain knowledge\n",
    "* **What experience do you already have around this area?**\n",
    "\n",
    "I've read a lot about the databases that exist related to Black Lives Matter, as well as the analysis that has already been done. \n",
    "\n",
    "\n",
    "* **Does it relate or help inform the project in any way?**\n",
    "\n",
    "Yes - I believe I'm knowledgable about the shortcomings in the data and the potential biases that exist in the data collection methods. I also have an idea of how analysis could be useful to organizations and individuals.\n",
    "\n",
    "* **What other research efforts exist?**\n",
    "\n",
    "\n",
    "Research effort | Description | Outcome/Comments\n",
    "---|---|---|\n",
    "[Citizen's Police Data Project/Invisible Institute](http://invisible.institute/police-data/) | Database (and analysis) of 56k misconduct compaints against Chicago police officers | Created model to predict \"bad apple\" cops, found that many complaints were not addressed\n",
    "[US Police Shooting Database (USPSD)](https://docs.google.com/spreadsheets/d/1cEGQ3eAFKpFBVq1k2mZIy5mBPxC6nBTJHzuSWtZQSVw/edit#gid=1842418396) | Started by Kyle Wagner, user-generated google docs spreadsheet to track police killings | Input source to MPV dataset\n",
    "[Fatal Encounters Database](http://www.fatalencounters.org/) | Collects data through paid researchers, public records requests, crowdsourced data | Input source to MPV dataset\n",
    "[Killed by Police Database](http://killedbypolice.net/) | started May 1, 2013 | Input source to MPV dataset\n",
    "[Cody Ross PLOS study](http://journals.plos.org/plosone/article?id=10.1371/journal.pone.0141854) | Bayesian analysis of racial bias in police shooting, 2011-2014, using data from USPSD |  Only uses USPSD data (not entire MPV dataset), will use some of this study's methodology in my final project\n",
    "[Roland Fryer NBER study](http://www.nber.org/papers/w22399) | Explores racial differences in police use of force | Study found no racial bias in lethal force, but many criticize the methodolgy\n",
    "[Gun Violence Archive](http://www.gunviolencearchive.org/) | Non-profit formed in 2013 to provide accurate info about gun-related violence in the US | Not focused specifically on police shootings, but does list officer-involved shootings\n",
    "Five Thirty Eight Blog [Why Are So Many Black Americans Killed By Police?](http://fivethirtyeight.com/features/why-are-so-many-black-americans-killed-by-police/) | Quotes many researchers, discusses Fryer's study | Good summary, but no original data analysis in this article\n",
    "Five Thirty Eight Blog [The Police Are Killing People As Often As They Were Before Ferguson](http://fivethirtyeight.com/features/the-police-are-killing-people-as-often-as-they-were-before-ferguson/) | Compares different data sources | ---\n",
    "[Goff study - The Science of Justice](http://policingequity.org/wp-content/uploads/2016/07/CPE_SoJ_Race-Arrests-UoF_2016-07-08-1130.pdf) | Uses data from National Justice Database (via Center for Policing Equity) to look for racial disparities in 12 law enforcement departments |  Racial disparities exist even when controlling for racial distribution of local arrest rates, and disparities are robust across multiple types of weapons/force \n",
    "\n",
    "\n",
    "\n",
    "\n",
    "  "
   ]
  },
  {
   "cell_type": "markdown",
   "metadata": {},
   "source": [
    "SW: Nice - do any of these data sources have survival data?\n",
    "\n",
    "Also, since you've read so much on this, forget what I said about switching to working with hospital re-admission rates."
   ]
  },
  {
   "cell_type": "markdown",
   "metadata": {},
   "source": [
    "### Project Concerns\n",
    "* **What questions do you have about your project? What are you not sure you quite yet understand? (The more honest you are about this, the easier your instructors can help).**\n",
    "\n",
    "I'm not really sure if I've chosen the right outcome variable. \n",
    "\n",
    "* **What are the assumptions and caveats to the problem?**\n",
    "    * **What data do you not have access to but wish you had?**\n",
    "    \n",
    "    I wish I had a dataset that included people who were shot by police but did NOT die. Then I could predict survival status. Sadly, this data does not exist. \n",
    "    \n",
    "    * **What is already implied about the observations in your data set? For example, if your primary data set is twitter data, it may not be representative of the whole sample (say, predicting who would win an election)**\n",
    "    \n",
    "    One big assumption is that my data is representative of all police killings in the US in the past ~4 years. Since it is user-generated, it may  be missing some killings that did not get press coverage. Additionally, press coverage could be biased to a certain demographic. \n",
    "    \n",
    "* **What are the risks to the project?**\n",
    "    * **What's the cost of your model being wrong? (What's the benefit of your model being right?)**\n",
    "    \n",
    "    If my model is wrong (i.e., it shows that there is no racial bias among police, but there actually IS racial bias), then it could encourage law enforcement institutions to continue the status quo/perpetuate racist stereotypes and racially-charged behavior.\n",
    "    \n",
    "    * **Is any of the data incorrect? Could it be incorrect?**\n",
    "\n",
    "Yes, some of the data could be incorrect. There are duplicates in the data that will need to be dropped."
   ]
  },
  {
   "cell_type": "markdown",
   "metadata": {},
   "source": [
    "### Outcomes\n",
    "* **What do you expect the output to look like?**\n",
    "\n",
    "I expect the output to be a list of important features, ranked by influence/importance. I also expect to develop a model (perhaps ensembles of decision trees) that will be able to predict race given other variables or predict armed/unarmed status given other variables.\n",
    "\n",
    "* **What does your target audience expect the output to look like?**\n",
    "\n",
    "My target audience expects revealing statistics/charts to show (or to disprove) that racial bias exists within police departments.\n",
    "\n",
    "* **How complicated does your model have to be?**\n",
    "\n",
    "My model will not be complicated, since I'm not using time-series data. I may need to normalize some of my variables or convert them into log form. \n",
    "\n",
    "* **How successful does your project have to be in order to be considered a \"success\"?**\n",
    "\n",
    "It will be a success if I can product a statistically signficant model/coefficient.\n",
    "\n",
    "* **What will you do if the project is a bust (this happens! but it shouldn't here)?**\n",
    "\n",
    "If the project is a bust, I will look for another dataset or additional varialbes that may provide more predictive power"
   ]
  },
  {
   "cell_type": "markdown",
   "metadata": {},
   "source": [
    "SW: I would think of success more in terms of accuracy in addition to particular coefficients. Maybe think: \"If I had an accurate model, and in that model (if it was a Random Forest, for example) the victim's race was an 'important feature' in predicting my outcome, then I would conclude that police are biased toward certain races.\""
   ]
  },
  {
   "cell_type": "code",
   "execution_count": null,
   "metadata": {
    "collapsed": true
   },
   "outputs": [],
   "source": []
  }
 ],
 "metadata": {
  "anaconda-cloud": {},
  "kernelspec": {
   "display_name": "Python [Root]",
   "language": "python",
   "name": "Python [Root]"
  },
  "language_info": {
   "codemirror_mode": {
    "name": "ipython",
    "version": 2
   },
   "file_extension": ".py",
   "mimetype": "text/x-python",
   "name": "python",
   "nbconvert_exporter": "python",
   "pygments_lexer": "ipython2",
   "version": "2.7.12"
  },
  "toc": {
   "nav_menu": {
    "height": "120px",
    "width": "252px"
   },
   "navigate_menu": true,
   "number_sections": true,
   "sideBar": true,
   "threshold": 4,
   "toc_cell": false,
   "toc_section_display": "block",
   "toc_window_display": true
  }
 },
 "nbformat": 4,
 "nbformat_minor": 0
}
